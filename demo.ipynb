{
 "cells": [
  {
   "cell_type": "code",
   "execution_count": 2,
   "metadata": {},
   "outputs": [],
   "source": [
    "# Loading the required Libraries and loading the data a dataframe\n",
    "import pandas as pd\n",
    "import sqlite3\n",
    "\n",
    "df = pd.read_excel('Rates_DF_Example.xls')\n"
   ]
  },
  {
   "cell_type": "code",
   "execution_count": 3,
   "metadata": {},
   "outputs": [],
   "source": [
    "# Dropping Null Values\n",
    "df.dropna(inplace=True)"
   ]
  },
  {
   "cell_type": "code",
   "execution_count": 4,
   "metadata": {},
   "outputs": [],
   "source": [
    "# Dropping Duplicate Values\n",
    "df.drop_duplicates(inplace=True)"
   ]
  },
  {
   "cell_type": "code",
   "execution_count": 5,
   "metadata": {},
   "outputs": [
    {
     "data": {
      "text/html": [
       "<div>\n",
       "<style scoped>\n",
       "    .dataframe tbody tr th:only-of-type {\n",
       "        vertical-align: middle;\n",
       "    }\n",
       "\n",
       "    .dataframe tbody tr th {\n",
       "        vertical-align: top;\n",
       "    }\n",
       "\n",
       "    .dataframe thead th {\n",
       "        text-align: right;\n",
       "    }\n",
       "</style>\n",
       "<table border=\"1\" class=\"dataframe\">\n",
       "  <thead>\n",
       "    <tr style=\"text-align: right;\">\n",
       "      <th></th>\n",
       "      <th>service_code</th>\n",
       "      <th>service_code_description</th>\n",
       "      <th>hospital_ID</th>\n",
       "      <th>cost</th>\n",
       "    </tr>\n",
       "  </thead>\n",
       "  <tbody>\n",
       "    <tr>\n",
       "      <th>0</th>\n",
       "      <td>29870</td>\n",
       "      <td>Knee surgery</td>\n",
       "      <td>1003820630</td>\n",
       "      <td>1432.34</td>\n",
       "    </tr>\n",
       "    <tr>\n",
       "      <th>1</th>\n",
       "      <td>29870</td>\n",
       "      <td>Knee surgery</td>\n",
       "      <td>1003820630</td>\n",
       "      <td>1016.51</td>\n",
       "    </tr>\n",
       "    <tr>\n",
       "      <th>2</th>\n",
       "      <td>29850</td>\n",
       "      <td>Hip Surgery</td>\n",
       "      <td>1003820630</td>\n",
       "      <td>1519.18</td>\n",
       "    </tr>\n",
       "    <tr>\n",
       "      <th>4</th>\n",
       "      <td>22818</td>\n",
       "      <td>Covid Vaccine</td>\n",
       "      <td>1003820630</td>\n",
       "      <td>5402.73</td>\n",
       "    </tr>\n",
       "    <tr>\n",
       "      <th>6</th>\n",
       "      <td>29870</td>\n",
       "      <td>Knee surgery</td>\n",
       "      <td>1013970078</td>\n",
       "      <td>1432.34</td>\n",
       "    </tr>\n",
       "    <tr>\n",
       "      <th>...</th>\n",
       "      <td>...</td>\n",
       "      <td>...</td>\n",
       "      <td>...</td>\n",
       "      <td>...</td>\n",
       "    </tr>\n",
       "    <tr>\n",
       "      <th>10747</th>\n",
       "      <td>29850</td>\n",
       "      <td>Hip Surgery</td>\n",
       "      <td>95-4565259</td>\n",
       "      <td>1519.18</td>\n",
       "    </tr>\n",
       "    <tr>\n",
       "      <th>10749</th>\n",
       "      <td>22818</td>\n",
       "      <td>Covid Vaccine</td>\n",
       "      <td>95-4565259</td>\n",
       "      <td>5402.73</td>\n",
       "    </tr>\n",
       "    <tr>\n",
       "      <th>10751</th>\n",
       "      <td>29870</td>\n",
       "      <td>Knee surgery</td>\n",
       "      <td>95-4662001</td>\n",
       "      <td>622.72</td>\n",
       "    </tr>\n",
       "    <tr>\n",
       "      <th>10752</th>\n",
       "      <td>29850</td>\n",
       "      <td>Hip Surgery</td>\n",
       "      <td>95-4662001</td>\n",
       "      <td>664.62</td>\n",
       "    </tr>\n",
       "    <tr>\n",
       "      <th>10753</th>\n",
       "      <td>22818</td>\n",
       "      <td>Covid Vaccine</td>\n",
       "      <td>95-4662001</td>\n",
       "      <td>2280.51</td>\n",
       "    </tr>\n",
       "  </tbody>\n",
       "</table>\n",
       "<p>6159 rows × 4 columns</p>\n",
       "</div>"
      ],
      "text/plain": [
       "       service_code service_code_description hospital_ID     cost\n",
       "0             29870             Knee surgery  1003820630  1432.34\n",
       "1             29870             Knee surgery  1003820630  1016.51\n",
       "2             29850              Hip Surgery  1003820630  1519.18\n",
       "4             22818            Covid Vaccine  1003820630  5402.73\n",
       "6             29870             Knee surgery  1013970078  1432.34\n",
       "...             ...                      ...         ...      ...\n",
       "10747         29850              Hip Surgery  95-4565259  1519.18\n",
       "10749         22818            Covid Vaccine  95-4565259  5402.73\n",
       "10751         29870             Knee surgery  95-4662001   622.72\n",
       "10752         29850              Hip Surgery  95-4662001   664.62\n",
       "10753         22818            Covid Vaccine  95-4662001  2280.51\n",
       "\n",
       "[6159 rows x 4 columns]"
      ]
     },
     "execution_count": 5,
     "metadata": {},
     "output_type": "execute_result"
    }
   ],
   "source": [
    "# Reading the for undestanding of various columns\n",
    "df"
   ]
  },
  {
   "cell_type": "code",
   "execution_count": 6,
   "metadata": {},
   "outputs": [
    {
     "name": "stdout",
     "output_type": "stream",
     "text": [
      "<class 'pandas.core.frame.DataFrame'>\n",
      "Int64Index: 6159 entries, 0 to 10753\n",
      "Data columns (total 4 columns):\n",
      " #   Column                    Non-Null Count  Dtype  \n",
      "---  ------                    --------------  -----  \n",
      " 0   service_code              6159 non-null   int64  \n",
      " 1   service_code_description  6159 non-null   object \n",
      " 2   hospital_ID               6159 non-null   object \n",
      " 3   cost                      6159 non-null   float64\n",
      "dtypes: float64(1), int64(1), object(2)\n",
      "memory usage: 240.6+ KB\n"
     ]
    }
   ],
   "source": [
    "# Getting the information about the various types of columns in the database\n",
    "df.info()"
   ]
  },
  {
   "cell_type": "code",
   "execution_count": 7,
   "metadata": {},
   "outputs": [],
   "source": [
    "# Creating a function as given int he assignment to calulate the costliest and cheapeast hostipals according to the service provided.\n",
    "def calc_hospital_rankings(df):\n",
    "    res = []\n",
    "\n",
    "    unique_codes = df['service_code'].unique()\n",
    "    \n",
    "    for code in unique_codes:\n",
    "        sub = df[df['service_code'] == code]\n",
    "        unique_desc = sub['service_code_description'].unique()\n",
    "        \n",
    "        for desc in unique_desc:\n",
    "            desc_sub = sub[sub['service_code_description'] == desc]\n",
    "            max_cost_hosp = desc_sub['hospital_ID'][desc_sub['cost'].idxmax()]\n",
    "            min_cost_hosp = desc_sub['hospital_ID'][desc_sub['cost'].idxmin()]\n",
    "            \n",
    "            res.append({\n",
    "                'service_code': code,\n",
    "                'service_code_description': desc,\n",
    "                'costliest_hospital': max_cost_hosp,\n",
    "                'cheapest_hospital': min_cost_hosp\n",
    "            })\n",
    "    \n",
    "    return pd.DataFrame(res)\n",
    "hospital_rankings = calc_hospital_rankings(df)\n"
   ]
  },
  {
   "cell_type": "code",
   "execution_count": 8,
   "metadata": {},
   "outputs": [
    {
     "data": {
      "text/html": [
       "<div>\n",
       "<style scoped>\n",
       "    .dataframe tbody tr th:only-of-type {\n",
       "        vertical-align: middle;\n",
       "    }\n",
       "\n",
       "    .dataframe tbody tr th {\n",
       "        vertical-align: top;\n",
       "    }\n",
       "\n",
       "    .dataframe thead th {\n",
       "        text-align: right;\n",
       "    }\n",
       "</style>\n",
       "<table border=\"1\" class=\"dataframe\">\n",
       "  <thead>\n",
       "    <tr style=\"text-align: right;\">\n",
       "      <th></th>\n",
       "      <th>service_code</th>\n",
       "      <th>service_code_description</th>\n",
       "      <th>costliest_hospital</th>\n",
       "      <th>cheapest_hospital</th>\n",
       "    </tr>\n",
       "  </thead>\n",
       "  <tbody>\n",
       "    <tr>\n",
       "      <th>0</th>\n",
       "      <td>29870</td>\n",
       "      <td>Knee surgery</td>\n",
       "      <td>20-8624691</td>\n",
       "      <td>20-8075502</td>\n",
       "    </tr>\n",
       "    <tr>\n",
       "      <th>1</th>\n",
       "      <td>29850</td>\n",
       "      <td>Hip Surgery</td>\n",
       "      <td>20-8624691</td>\n",
       "      <td>20-8075502</td>\n",
       "    </tr>\n",
       "    <tr>\n",
       "      <th>2</th>\n",
       "      <td>22818</td>\n",
       "      <td>Covid Vaccine</td>\n",
       "      <td>20-8624691</td>\n",
       "      <td>27-1145142</td>\n",
       "    </tr>\n",
       "  </tbody>\n",
       "</table>\n",
       "</div>"
      ],
      "text/plain": [
       "   service_code service_code_description costliest_hospital cheapest_hospital\n",
       "0         29870             Knee surgery         20-8624691        20-8075502\n",
       "1         29850              Hip Surgery         20-8624691        20-8075502\n",
       "2         22818            Covid Vaccine         20-8624691        27-1145142"
      ]
     },
     "execution_count": 8,
     "metadata": {},
     "output_type": "execute_result"
    }
   ],
   "source": [
    "hospital_rankings"
   ]
  },
  {
   "cell_type": "code",
   "execution_count": 9,
   "metadata": {},
   "outputs": [
    {
     "data": {
      "text/plain": [
       "6159"
      ]
     },
     "execution_count": 9,
     "metadata": {},
     "output_type": "execute_result"
    }
   ],
   "source": [
    "# Creating as well as connecting to the SQL lite database and loading the dataframe to the sqlite database.\n",
    "db_conn = sqlite3.connect('hospital_data.db')\n",
    "df.to_sql('hospital_data', db_conn, if_exists='replace', index=False)"
   ]
  },
  {
   "cell_type": "code",
   "execution_count": 10,
   "metadata": {},
   "outputs": [],
   "source": [
    "# Creating the query in accordance to the assignment for printing the mean and standard devation for cost for the various services.\n",
    "query = '''\n",
    "SELECT\n",
    "    h.service_code,\n",
    "    AVG(h.cost) AS mean_cost,\n",
    "    SQRT(AVG((h.cost - s.avg_cost) * (h.cost - s.avg_cost))) AS sample_std_deviation\n",
    "FROM\n",
    "    hospital_data AS h\n",
    "JOIN (\n",
    "    SELECT\n",
    "        service_code,\n",
    "        AVG(cost) AS avg_cost\n",
    "    FROM\n",
    "        hospital_data\n",
    "    GROUP BY\n",
    "        service_code\n",
    ") AS s\n",
    "ON h.service_code = s.service_code\n",
    "GROUP BY\n",
    "    h.service_code;\n",
    "\n",
    "'''\n",
    "\n",
    "mean_std_result = pd.read_sql_query(query, db_conn)\n",
    "db_conn.close()"
   ]
  },
  {
   "cell_type": "code",
   "execution_count": 11,
   "metadata": {},
   "outputs": [
    {
     "data": {
      "text/html": [
       "<div>\n",
       "<style scoped>\n",
       "    .dataframe tbody tr th:only-of-type {\n",
       "        vertical-align: middle;\n",
       "    }\n",
       "\n",
       "    .dataframe tbody tr th {\n",
       "        vertical-align: top;\n",
       "    }\n",
       "\n",
       "    .dataframe thead th {\n",
       "        text-align: right;\n",
       "    }\n",
       "</style>\n",
       "<table border=\"1\" class=\"dataframe\">\n",
       "  <thead>\n",
       "    <tr style=\"text-align: right;\">\n",
       "      <th></th>\n",
       "      <th>service_code</th>\n",
       "      <th>mean_cost</th>\n",
       "      <th>sample_std_deviation</th>\n",
       "    </tr>\n",
       "  </thead>\n",
       "  <tbody>\n",
       "    <tr>\n",
       "      <th>0</th>\n",
       "      <td>22818</td>\n",
       "      <td>3402.541164</td>\n",
       "      <td>1709.510988</td>\n",
       "    </tr>\n",
       "    <tr>\n",
       "      <th>1</th>\n",
       "      <td>29850</td>\n",
       "      <td>965.211716</td>\n",
       "      <td>513.016666</td>\n",
       "    </tr>\n",
       "    <tr>\n",
       "      <th>2</th>\n",
       "      <td>29870</td>\n",
       "      <td>820.209469</td>\n",
       "      <td>468.551561</td>\n",
       "    </tr>\n",
       "  </tbody>\n",
       "</table>\n",
       "</div>"
      ],
      "text/plain": [
       "   service_code    mean_cost  sample_std_deviation\n",
       "0         22818  3402.541164           1709.510988\n",
       "1         29850   965.211716            513.016666\n",
       "2         29870   820.209469            468.551561"
      ]
     },
     "execution_count": 11,
     "metadata": {},
     "output_type": "execute_result"
    }
   ],
   "source": [
    "mean_std_result"
   ]
  }
 ],
 "metadata": {
  "kernelspec": {
   "display_name": "Python 3",
   "language": "python",
   "name": "python3"
  },
  "language_info": {
   "codemirror_mode": {
    "name": "ipython",
    "version": 3
   },
   "file_extension": ".py",
   "mimetype": "text/x-python",
   "name": "python",
   "nbconvert_exporter": "python",
   "pygments_lexer": "ipython3",
   "version": "3.10.2"
  },
  "orig_nbformat": 4
 },
 "nbformat": 4,
 "nbformat_minor": 2
}
